{
 "cells": [
  {
   "cell_type": "code",
   "execution_count": 37,
   "id": "21f7832b",
   "metadata": {},
   "outputs": [],
   "source": [
    "#step no 1 data cleaning.\n",
    "\n",
    "# import the libraries\n",
    "import pandas as pd\n",
    "import numpy as np\n",
    "import matplotlib.pyplot as plt\n",
    "import seaborn as sns\n",
    "\n",
    "# set style of visualization\n",
    "sns.set_style(\"darkgrid\")\n",
    "sns.set_palette(\"RdBu\")"
   ]
  },
  {
   "cell_type": "code",
   "execution_count": 38,
   "id": "42268b66",
   "metadata": {},
   "outputs": [],
   "source": [
    "# read the data set\n",
    "\n",
    "data = pd.read_excel(\"Coffee Shop Sales.xlsx\")"
   ]
  },
  {
   "cell_type": "code",
   "execution_count": 39,
   "id": "9d0a87b4",
   "metadata": {},
   "outputs": [
    {
     "data": {
      "text/html": [
       "<div>\n",
       "<style scoped>\n",
       "    .dataframe tbody tr th:only-of-type {\n",
       "        vertical-align: middle;\n",
       "    }\n",
       "\n",
       "    .dataframe tbody tr th {\n",
       "        vertical-align: top;\n",
       "    }\n",
       "\n",
       "    .dataframe thead th {\n",
       "        text-align: right;\n",
       "    }\n",
       "</style>\n",
       "<table border=\"1\" class=\"dataframe\">\n",
       "  <thead>\n",
       "    <tr style=\"text-align: right;\">\n",
       "      <th></th>\n",
       "      <th>transaction_id</th>\n",
       "      <th>transaction_date</th>\n",
       "      <th>transaction_time</th>\n",
       "      <th>transaction_qty</th>\n",
       "      <th>store_id</th>\n",
       "      <th>store_location</th>\n",
       "      <th>product_id</th>\n",
       "      <th>unit_price</th>\n",
       "      <th>product_category</th>\n",
       "      <th>product_type</th>\n",
       "      <th>product_detail</th>\n",
       "    </tr>\n",
       "  </thead>\n",
       "  <tbody>\n",
       "    <tr>\n",
       "      <th>0</th>\n",
       "      <td>1</td>\n",
       "      <td>2023-01-01</td>\n",
       "      <td>07:06:11</td>\n",
       "      <td>2</td>\n",
       "      <td>5</td>\n",
       "      <td>Lower Manhattan</td>\n",
       "      <td>32</td>\n",
       "      <td>3.0</td>\n",
       "      <td>Coffee</td>\n",
       "      <td>Gourmet brewed coffee</td>\n",
       "      <td>Ethiopia Rg</td>\n",
       "    </tr>\n",
       "    <tr>\n",
       "      <th>1</th>\n",
       "      <td>2</td>\n",
       "      <td>2023-01-01</td>\n",
       "      <td>07:08:56</td>\n",
       "      <td>2</td>\n",
       "      <td>5</td>\n",
       "      <td>Lower Manhattan</td>\n",
       "      <td>57</td>\n",
       "      <td>3.1</td>\n",
       "      <td>Tea</td>\n",
       "      <td>Brewed Chai tea</td>\n",
       "      <td>Spicy Eye Opener Chai Lg</td>\n",
       "    </tr>\n",
       "    <tr>\n",
       "      <th>2</th>\n",
       "      <td>3</td>\n",
       "      <td>2023-01-01</td>\n",
       "      <td>07:14:04</td>\n",
       "      <td>2</td>\n",
       "      <td>5</td>\n",
       "      <td>Lower Manhattan</td>\n",
       "      <td>59</td>\n",
       "      <td>4.5</td>\n",
       "      <td>Drinking Chocolate</td>\n",
       "      <td>Hot chocolate</td>\n",
       "      <td>Dark chocolate Lg</td>\n",
       "    </tr>\n",
       "    <tr>\n",
       "      <th>3</th>\n",
       "      <td>4</td>\n",
       "      <td>2023-01-01</td>\n",
       "      <td>07:20:24</td>\n",
       "      <td>1</td>\n",
       "      <td>5</td>\n",
       "      <td>Lower Manhattan</td>\n",
       "      <td>22</td>\n",
       "      <td>2.0</td>\n",
       "      <td>Coffee</td>\n",
       "      <td>Drip coffee</td>\n",
       "      <td>Our Old Time Diner Blend Sm</td>\n",
       "    </tr>\n",
       "    <tr>\n",
       "      <th>4</th>\n",
       "      <td>5</td>\n",
       "      <td>2023-01-01</td>\n",
       "      <td>07:22:41</td>\n",
       "      <td>2</td>\n",
       "      <td>5</td>\n",
       "      <td>Lower Manhattan</td>\n",
       "      <td>57</td>\n",
       "      <td>3.1</td>\n",
       "      <td>Tea</td>\n",
       "      <td>Brewed Chai tea</td>\n",
       "      <td>Spicy Eye Opener Chai Lg</td>\n",
       "    </tr>\n",
       "  </tbody>\n",
       "</table>\n",
       "</div>"
      ],
      "text/plain": [
       "   transaction_id transaction_date transaction_time  transaction_qty  \\\n",
       "0               1       2023-01-01         07:06:11                2   \n",
       "1               2       2023-01-01         07:08:56                2   \n",
       "2               3       2023-01-01         07:14:04                2   \n",
       "3               4       2023-01-01         07:20:24                1   \n",
       "4               5       2023-01-01         07:22:41                2   \n",
       "\n",
       "   store_id   store_location  product_id  unit_price    product_category  \\\n",
       "0         5  Lower Manhattan          32         3.0              Coffee   \n",
       "1         5  Lower Manhattan          57         3.1                 Tea   \n",
       "2         5  Lower Manhattan          59         4.5  Drinking Chocolate   \n",
       "3         5  Lower Manhattan          22         2.0              Coffee   \n",
       "4         5  Lower Manhattan          57         3.1                 Tea   \n",
       "\n",
       "            product_type               product_detail  \n",
       "0  Gourmet brewed coffee                  Ethiopia Rg  \n",
       "1        Brewed Chai tea     Spicy Eye Opener Chai Lg  \n",
       "2          Hot chocolate            Dark chocolate Lg  \n",
       "3            Drip coffee  Our Old Time Diner Blend Sm  \n",
       "4        Brewed Chai tea     Spicy Eye Opener Chai Lg  "
      ]
     },
     "execution_count": 39,
     "metadata": {},
     "output_type": "execute_result"
    }
   ],
   "source": [
    "# see the first 5 rows\n",
    "data.head()"
   ]
  },
  {
   "cell_type": "code",
   "execution_count": 40,
   "id": "aace2c6d",
   "metadata": {},
   "outputs": [
    {
     "data": {
      "text/plain": [
       "(149116, 11)"
      ]
     },
     "execution_count": 40,
     "metadata": {},
     "output_type": "execute_result"
    }
   ],
   "source": [
    "# see the number of rows and columns\n",
    "data.shape"
   ]
  },
  {
   "cell_type": "code",
   "execution_count": 41,
   "id": "f9a11d45",
   "metadata": {},
   "outputs": [
    {
     "name": "stdout",
     "output_type": "stream",
     "text": [
      "\n",
      "Missing Values:\n",
      "transaction_id      0\n",
      "transaction_date    0\n",
      "transaction_time    0\n",
      "transaction_qty     0\n",
      "store_id            0\n",
      "store_location      0\n",
      "product_id          0\n",
      "unit_price          0\n",
      "product_category    0\n",
      "product_type        0\n",
      "product_detail      0\n",
      "dtype: int64\n"
     ]
    }
   ],
   "source": [
    "# Check for missing values\n",
    "print(\"\\nMissing Values:\")\n",
    "print(data.isnull().sum())"
   ]
  },
  {
   "cell_type": "code",
   "execution_count": 42,
   "id": "57c29c43",
   "metadata": {},
   "outputs": [],
   "source": [
    "# Fill or drop missing values as needed\n",
    "data = data.dropna() "
   ]
  },
  {
   "cell_type": "code",
   "execution_count": 43,
   "id": "55d26f96",
   "metadata": {},
   "outputs": [
    {
     "name": "stdout",
     "output_type": "stream",
     "text": [
      "<class 'pandas.core.frame.DataFrame'>\n",
      "RangeIndex: 149116 entries, 0 to 149115\n",
      "Data columns (total 11 columns):\n",
      " #   Column            Non-Null Count   Dtype         \n",
      "---  ------            --------------   -----         \n",
      " 0   transaction_id    149116 non-null  int64         \n",
      " 1   transaction_date  149116 non-null  datetime64[ns]\n",
      " 2   transaction_time  149116 non-null  object        \n",
      " 3   transaction_qty   149116 non-null  int64         \n",
      " 4   store_id          149116 non-null  int64         \n",
      " 5   store_location    149116 non-null  object        \n",
      " 6   product_id        149116 non-null  int64         \n",
      " 7   unit_price        149116 non-null  float64       \n",
      " 8   product_category  149116 non-null  object        \n",
      " 9   product_type      149116 non-null  object        \n",
      " 10  product_detail    149116 non-null  object        \n",
      "dtypes: datetime64[ns](1), float64(1), int64(4), object(5)\n",
      "memory usage: 12.5+ MB\n"
     ]
    }
   ],
   "source": [
    "# see quick info\n",
    "data.info()"
   ]
  },
  {
   "cell_type": "code",
   "execution_count": 44,
   "id": "aeac117e",
   "metadata": {},
   "outputs": [
    {
     "name": "stdout",
     "output_type": "stream",
     "text": [
      "\n",
      "Duplicate Rows:\n",
      "0\n"
     ]
    }
   ],
   "source": [
    "# Check for duplicates\n",
    "print(\"\\nDuplicate Rows:\")\n",
    "print(data.duplicated().sum())"
   ]
  },
  {
   "cell_type": "code",
   "execution_count": 45,
   "id": "0dfa3271",
   "metadata": {},
   "outputs": [],
   "source": [
    "# Remove duplicates\n",
    "data = data.drop_duplicates()"
   ]
  },
  {
   "cell_type": "code",
   "execution_count": 46,
   "id": "a5dac8d8",
   "metadata": {},
   "outputs": [],
   "source": [
    "# Convert date columns to datetime format if needed\n",
    "data['transaction_date'] = pd.to_datetime(data['transaction_date'])"
   ]
  },
  {
   "cell_type": "code",
   "execution_count": 47,
   "id": "d7d6599b",
   "metadata": {},
   "outputs": [],
   "source": [
    "# Standardize string columns (e.g., trimming whitespace, converting to lower/upper case)\n",
    "data['store_location'] = data['store_location'].str.strip().str.lower()\n",
    "data['product_category'] = data['product_category'].str.strip().str.lower()\n",
    "data['product_type'] = data['product_type'].str.strip().str.lower()\n",
    "data['product_detail'] = data['product_detail'].str.strip().str.lower()"
   ]
  },
  {
   "cell_type": "code",
   "execution_count": 48,
   "id": "6875fb97",
   "metadata": {},
   "outputs": [],
   "source": [
    "# Ensure correct data types\n",
    "data['transaction_qty'] = data['transaction_qty'].astype(int)\n",
    "data['unit_price'] = data['unit_price'].astype(float)"
   ]
  },
  {
   "cell_type": "code",
   "execution_count": 49,
   "id": "e9bbcc45",
   "metadata": {},
   "outputs": [
    {
     "name": "stdout",
     "output_type": "stream",
     "text": [
      "\n",
      "Cleaned Data Preview:\n",
      "   transaction_id transaction_date transaction_time  transaction_qty  \\\n",
      "0               1       2023-01-01         07:06:11                2   \n",
      "1               2       2023-01-01         07:08:56                2   \n",
      "2               3       2023-01-01         07:14:04                2   \n",
      "3               4       2023-01-01         07:20:24                1   \n",
      "4               5       2023-01-01         07:22:41                2   \n",
      "\n",
      "   store_id   store_location  product_id  unit_price    product_category  \\\n",
      "0         5  lower manhattan          32         3.0              coffee   \n",
      "1         5  lower manhattan          57         3.1                 tea   \n",
      "2         5  lower manhattan          59         4.5  drinking chocolate   \n",
      "3         5  lower manhattan          22         2.0              coffee   \n",
      "4         5  lower manhattan          57         3.1                 tea   \n",
      "\n",
      "            product_type               product_detail  \n",
      "0  gourmet brewed coffee                  ethiopia rg  \n",
      "1        brewed chai tea     spicy eye opener chai lg  \n",
      "2          hot chocolate            dark chocolate lg  \n",
      "3            drip coffee  our old time diner blend sm  \n",
      "4        brewed chai tea     spicy eye opener chai lg  \n"
     ]
    }
   ],
   "source": [
    "# Display cleaned data\n",
    "print(\"\\nCleaned Data Preview:\")\n",
    "print(data.head())"
   ]
  },
  {
   "cell_type": "code",
   "execution_count": 50,
   "id": "00c71bcf",
   "metadata": {},
   "outputs": [
    {
     "name": "stdout",
     "output_type": "stream",
     "text": [
      "\n",
      "Cleaned data saved to cleaned_dataset.csv\n"
     ]
    }
   ],
   "source": [
    "# Save cleaned data\n",
    "cleaned_file_path = 'cleaned_dataset.csv'\n",
    "data.to_csv(cleaned_file_path, index=False)\n",
    "\n",
    "print(f\"\\nCleaned data saved to {'cleaned_dataset.csv'}\")"
   ]
  },
  {
   "cell_type": "code",
   "execution_count": 51,
   "id": "792df2c2",
   "metadata": {},
   "outputs": [],
   "source": [
    "#Step 2: Profit/Loss Analysis\n",
    "\n",
    "#Load the cleaned dataset.\n",
    "cleaned_file_path = 'cleaned_dataset.csv'\n",
    "data = pd.read_csv(cleaned_file_path)"
   ]
  },
  {
   "cell_type": "code",
   "execution_count": 52,
   "id": "cc4f9b3e",
   "metadata": {},
   "outputs": [
    {
     "name": "stdout",
     "output_type": "stream",
     "text": [
      "Cleaned Data Preview:\n",
      "   transaction_id transaction_date transaction_time  transaction_qty  \\\n",
      "0               1       2023-01-01         07:06:11                2   \n",
      "1               2       2023-01-01         07:08:56                2   \n",
      "2               3       2023-01-01         07:14:04                2   \n",
      "3               4       2023-01-01         07:20:24                1   \n",
      "4               5       2023-01-01         07:22:41                2   \n",
      "\n",
      "   store_id   store_location  product_id  unit_price    product_category  \\\n",
      "0         5  lower manhattan          32         3.0              coffee   \n",
      "1         5  lower manhattan          57         3.1                 tea   \n",
      "2         5  lower manhattan          59         4.5  drinking chocolate   \n",
      "3         5  lower manhattan          22         2.0              coffee   \n",
      "4         5  lower manhattan          57         3.1                 tea   \n",
      "\n",
      "            product_type               product_detail  \n",
      "0  gourmet brewed coffee                  ethiopia rg  \n",
      "1        brewed chai tea     spicy eye opener chai lg  \n",
      "2          hot chocolate            dark chocolate lg  \n",
      "3            drip coffee  our old time diner blend sm  \n",
      "4        brewed chai tea     spicy eye opener chai lg  \n"
     ]
    }
   ],
   "source": [
    "# Display data preview\n",
    "print(\"Cleaned Data Preview:\")\n",
    "print(data.head())"
   ]
  },
  {
   "cell_type": "code",
   "execution_count": 53,
   "id": "ed093975",
   "metadata": {},
   "outputs": [],
   "source": [
    "# Calculate total sales for each transaction\n",
    "data['total_sales'] = data['transaction_qty'] * data['unit_price']"
   ]
  },
  {
   "cell_type": "code",
   "execution_count": 54,
   "id": "a36275dc",
   "metadata": {},
   "outputs": [],
   "source": [
    "# Assuming 70% of sales is the cost\n",
    "data['cost'] = data['total_sales'] * 0.7"
   ]
  },
  {
   "cell_type": "code",
   "execution_count": 55,
   "id": "08559c8d",
   "metadata": {},
   "outputs": [],
   "source": [
    "# Calculate profit for each transaction\n",
    "data['profit'] = data['total_sales'] - data['cost']"
   ]
  },
  {
   "cell_type": "code",
   "execution_count": 56,
   "id": "8e76c181",
   "metadata": {},
   "outputs": [
    {
     "name": "stdout",
     "output_type": "stream",
     "text": [
      "\n",
      "Data with Total Sales and Profit:\n",
      "   transaction_id transaction_date transaction_time  transaction_qty  \\\n",
      "0               1       2023-01-01         07:06:11                2   \n",
      "1               2       2023-01-01         07:08:56                2   \n",
      "2               3       2023-01-01         07:14:04                2   \n",
      "3               4       2023-01-01         07:20:24                1   \n",
      "4               5       2023-01-01         07:22:41                2   \n",
      "\n",
      "   store_id   store_location  product_id  unit_price    product_category  \\\n",
      "0         5  lower manhattan          32         3.0              coffee   \n",
      "1         5  lower manhattan          57         3.1                 tea   \n",
      "2         5  lower manhattan          59         4.5  drinking chocolate   \n",
      "3         5  lower manhattan          22         2.0              coffee   \n",
      "4         5  lower manhattan          57         3.1                 tea   \n",
      "\n",
      "            product_type               product_detail  total_sales  cost  \\\n",
      "0  gourmet brewed coffee                  ethiopia rg          6.0  4.20   \n",
      "1        brewed chai tea     spicy eye opener chai lg          6.2  4.34   \n",
      "2          hot chocolate            dark chocolate lg          9.0  6.30   \n",
      "3            drip coffee  our old time diner blend sm          2.0  1.40   \n",
      "4        brewed chai tea     spicy eye opener chai lg          6.2  4.34   \n",
      "\n",
      "   profit  \n",
      "0    1.80  \n",
      "1    1.86  \n",
      "2    2.70  \n",
      "3    0.60  \n",
      "4    1.86  \n"
     ]
    }
   ],
   "source": [
    "# Display data with calculated columns\n",
    "print(\"\\nData with Total Sales and Profit:\")\n",
    "print(data.head())"
   ]
  },
  {
   "cell_type": "code",
   "execution_count": 57,
   "id": "b6585c76",
   "metadata": {},
   "outputs": [],
   "source": [
    "# Aggregate total sales by product\n",
    "product_sales = data.groupby('product_id')['total_sales'].sum().reset_index()"
   ]
  },
  {
   "cell_type": "code",
   "execution_count": 58,
   "id": "3ea47f41",
   "metadata": {},
   "outputs": [
    {
     "name": "stdout",
     "output_type": "stream",
     "text": [
      "\n",
      "Aggregated Sales Data by Product:\n",
      "   product_id  total_sales\n",
      "0           1      3852.00\n",
      "1           2      3294.00\n",
      "2           3      2492.75\n",
      "3           4      3067.50\n",
      "4           5      2220.00\n"
     ]
    }
   ],
   "source": [
    "# Display aggregated sales data\n",
    "print(\"\\nAggregated Sales Data by Product:\")\n",
    "print(product_sales.head())"
   ]
  },
  {
   "cell_type": "code",
   "execution_count": 59,
   "id": "a8b87e29",
   "metadata": {},
   "outputs": [
    {
     "data": {
      "image/png": "[encoded data removed]",
      "text/plain": [
       "<Figure size 1200x800 with 1 Axes>"
      ]
     },
     "metadata": {},
     "output_type": "display_data"
    }
   ],
   "source": [
    "#Graphical Representations to Compare Product Sales\n",
    "# Plot product sales\n",
    "plt.figure(figsize=(12, 8))\n",
    "sns.barplot(x='product_id', y='total_sales', data=product_sales, palette='viridis')\n",
    "plt.title('Total Sales by Product')\n",
    "plt.xlabel('Product ID')\n",
    "plt.ylabel('Total Sales')\n",
    "plt.xticks(rotation=45, fontsize=10)\n",
    "plt.xticks(range(0, len(product_sales) + 1, 5))  # Show every 5th product ID for readability\n",
    "plt.grid(True)\n",
    "plt.tight_layout()\n",
    "plt.show()"
   ]
  },
  {
   "cell_type": "code",
   "execution_count": 60,
   "id": "52d3261c",
   "metadata": {},
   "outputs": [
    {
     "name": "stdout",
     "output_type": "stream",
     "text": [
      "\n",
      "Profit Margins by Product:\n",
      "   product_id    profit category\n",
      "0           1  1155.600   Profit\n",
      "1           2   988.200   Profit\n",
      "2           3   747.825   Profit\n",
      "3           4   920.250   Profit\n",
      "4           5   666.000   Profit\n"
     ]
    }
   ],
   "source": [
    "# Aggregate profit by product\n",
    "profit_margins = data.groupby('product_id')['profit'].sum().reset_index()\n",
    "\n",
    "# Identify profitable and loss-making products\n",
    "profit_margins['category'] = profit_margins['profit'].apply(lambda x: 'Profit' if x > 0 else 'Loss')\n",
    "\n",
    "# Display profit margins data\n",
    "print(\"\\nProfit Margins by Product:\")\n",
    "print(profit_margins.head())\n"
   ]
  },
  {
   "cell_type": "code",
   "execution_count": 61,
   "id": "a02d0f57",
   "metadata": {},
   "outputs": [
    {
     "data": {
      "image/png": "[encoded data removed]",
      "text/plain": [
       "<Figure size 1200x800 with 1 Axes>"
      ]
     },
     "metadata": {},
     "output_type": "display_data"
    }
   ],
   "source": [
    "# Plot profit margins\n",
    "plt.figure(figsize=(12, 8))\n",
    "sns.barplot(x='product_id', y='profit', hue='category', data=profit_margins, palette={'Profit': 'green', 'Loss': 'red'})\n",
    "plt.title('Profit/Loss by Product')\n",
    "plt.xlabel('Product ID')\n",
    "plt.ylabel('Profit')\n",
    "plt.xticks(rotation=45, fontsize=10)\n",
    "plt.xticks(range(0, len(profit_margins) + 1, 5))\n",
    "plt.grid(True)\n",
    "plt.tight_layout()\n",
    "plt.show()"
   ]
  },
  {
   "cell_type": "code",
   "execution_count": 62,
   "id": "3db0f579",
   "metadata": {},
   "outputs": [],
   "source": [
    "# import the necessary libraries\n",
    "from sklearn.model_selection import train_test_split\n",
    "from sklearn.linear_model import LinearRegression\n",
    "from sklearn.metrics import mean_absolute_error, r2_score"
   ]
  },
  {
   "cell_type": "code",
   "execution_count": 63,
   "id": "726847cf",
   "metadata": {},
   "outputs": [],
   "source": [
    "# Feature selection and target variable\n",
    "features = data[['transaction_qty', 'unit_price', 'store_id', 'product_category', 'product_type']]  # Adjust features as needed\n",
    "target = data['profit'] \n",
    "\n"
   ]
  },
  {
   "cell_type": "code",
   "execution_count": 64,
   "id": "97aede8c",
   "metadata": {},
   "outputs": [],
   "source": [
    "# Encode variables\n",
    "features = pd.get_dummies(features, drop_first=True)"
   ]
  },
  {
   "cell_type": "code",
   "execution_count": 65,
   "id": "21e8331d",
   "metadata": {},
   "outputs": [],
   "source": [
    "# Splitdata into training and testing sets\n",
    "X_train, X_test, y_train, y_test = train_test_split(features, target, test_size=0.2, random_state=42)"
   ]
  },
  {
   "cell_type": "code",
   "execution_count": 66,
   "id": "d627a744",
   "metadata": {},
   "outputs": [
    {
     "data": {
      "text/html": [
       "<style>#sk-container-id-2 {color: black;}#sk-container-id-2 pre{padding: 0;}#sk-container-id-2 div.sk-toggleable {background-color: white;}#sk-container-id-2 label.sk-toggleable__label {cursor: pointer;display: block;width: 100%;margin-bottom: 0;padding: 0.3em;box-sizing: border-box;text-align: center;}#sk-container-id-2 label.sk-toggleable__label-arrow:before {content: \"▸\";float: left;margin-right: 0.25em;color: #696969;}#sk-container-id-2 label.sk-toggleable__label-arrow:hover:before {color: black;}#sk-container-id-2 div.sk-estimator:hover label.sk-toggleable__label-arrow:before {color: black;}#sk-container-id-2 div.sk-toggleable__content {max-height: 0;max-width: 0;overflow: hidden;text-align: left;background-color: #f0f8ff;}#sk-container-id-2 div.sk-toggleable__content pre {margin: 0.2em;color: black;border-radius: 0.25em;background-color: #f0f8ff;}#sk-container-id-2 input.sk-toggleable__control:checked~div.sk-toggleable__content {max-height: 200px;max-width: 100%;overflow: auto;}#sk-container-id-2 input.sk-toggleable__control:checked~label.sk-toggleable__label-arrow:before {content: \"▾\";}#sk-container-id-2 div.sk-estimator input.sk-toggleable__control:checked~label.sk-toggleable__label {background-color: #d4ebff;}#sk-container-id-2 div.sk-label input.sk-toggleable__control:checked~label.sk-toggleable__label {background-color: #d4ebff;}#sk-container-id-2 input.sk-hidden--visually {border: 0;clip: rect(1px 1px 1px 1px);clip: rect(1px, 1px, 1px, 1px);height: 1px;margin: -1px;overflow: hidden;padding: 0;position: absolute;width: 1px;}#sk-container-id-2 div.sk-estimator {font-family: monospace;background-color: #f0f8ff;border: 1px dotted black;border-radius: 0.25em;box-sizing: border-box;margin-bottom: 0.5em;}#sk-container-id-2 div.sk-estimator:hover {background-color: #d4ebff;}#sk-container-id-2 div.sk-parallel-item::after {content: \"\";width: 100%;border-bottom: 1px solid gray;flex-grow: 1;}#sk-container-id-2 div.sk-label:hover label.sk-toggleable__label {background-color: #d4ebff;}#sk-container-id-2 div.sk-serial::before {content: \"\";position: absolute;border-left: 1px solid gray;box-sizing: border-box;top: 0;bottom: 0;left: 50%;z-index: 0;}#sk-container-id-2 div.sk-serial {display: flex;flex-direction: column;align-items: center;background-color: white;padding-right: 0.2em;padding-left: 0.2em;position: relative;}#sk-container-id-2 div.sk-item {position: relative;z-index: 1;}#sk-container-id-2 div.sk-parallel {display: flex;align-items: stretch;justify-content: center;background-color: white;position: relative;}#sk-container-id-2 div.sk-item::before, #sk-container-id-2 div.sk-parallel-item::before {content: \"\";position: absolute;border-left: 1px solid gray;box-sizing: border-box;top: 0;bottom: 0;left: 50%;z-index: -1;}#sk-container-id-2 div.sk-parallel-item {display: flex;flex-direction: column;z-index: 1;position: relative;background-color: white;}#sk-container-id-2 div.sk-parallel-item:first-child::after {align-self: flex-end;width: 50%;}#sk-container-id-2 div.sk-parallel-item:last-child::after {align-self: flex-start;width: 50%;}#sk-container-id-2 div.sk-parallel-item:only-child::after {width: 0;}#sk-container-id-2 div.sk-dashed-wrapped {border: 1px dashed gray;margin: 0 0.4em 0.5em 0.4em;box-sizing: border-box;padding-bottom: 0.4em;background-color: white;}#sk-container-id-2 div.sk-label label {font-family: monospace;font-weight: bold;display: inline-block;line-height: 1.2em;}#sk-container-id-2 div.sk-label-container {text-align: center;}#sk-container-id-2 div.sk-container {/* jupyter's `normalize.less` sets `[hidden] { display: none; }` but bootstrap.min.css set `[hidden] { display: none !important; }` so we also need the `!important` here to be able to override the default hidden behavior on the sphinx rendered scikit-learn.org. See: https://github.com/scikit-learn/scikit-learn/issues/21755 */display: inline-block !important;position: relative;}#sk-container-id-2 div.sk-text-repr-fallback {display: none;}</style><div id=\"sk-container-id-2\" class=\"sk-top-container\"><div class=\"sk-text-repr-fallback\"><pre>LinearRegression()</pre><b>In a Jupyter environment, please rerun this cell to show the HTML representation or trust the notebook. <br />On GitHub, the HTML representation is unable to render, please try loading this page with nbviewer.org.</b></div><div class=\"sk-container\" hidden><div class=\"sk-item\"><div class=\"sk-estimator sk-toggleable\"><input class=\"sk-toggleable__control sk-hidden--visually\" id=\"sk-estimator-id-2\" type=\"checkbox\" checked><label for=\"sk-estimator-id-2\" class=\"sk-toggleable__label sk-toggleable__label-arrow\">LinearRegression</label><div class=\"sk-toggleable__content\"><pre>LinearRegression()</pre></div></div></div></div></div>"
      ],
      "text/plain": [
       "LinearRegression()"
      ]
     },
     "execution_count": 66,
     "metadata": {},
     "output_type": "execute_result"
    }
   ],
   "source": [
    "# Train a linear regression model\n",
    "model = LinearRegression()\n",
    "model.fit(X_train, y_train)"
   ]
  },
  {
   "cell_type": "code",
   "execution_count": 67,
   "id": "50565e17",
   "metadata": {},
   "outputs": [],
   "source": [
    "# Predict future profits\n",
    "y_pred = model.predict(X_test)"
   ]
  },
  {
   "cell_type": "code",
   "execution_count": 68,
   "id": "f40c7516",
   "metadata": {},
   "outputs": [
    {
     "name": "stdout",
     "output_type": "stream",
     "text": [
      "\n",
      "Model Evaluation:\n",
      "Mean Absolute Error: 0.13190300961727744\n",
      "R^2 Score: 0.9295489485772521\n"
     ]
    }
   ],
   "source": [
    "# Evaluate model performance\n",
    "mae = mean_absolute_error(y_test, y_pred)\n",
    "r2 = r2_score(y_test, y_pred)\n",
    "\n",
    "print(\"\\nModel Evaluation:\")\n",
    "print(f\"Mean Absolute Error: {mae}\")\n",
    "print(f\"R^2 Score: {r2}\")"
   ]
  },
  {
   "cell_type": "code",
   "execution_count": 69,
   "id": "55128b5e",
   "metadata": {},
   "outputs": [
    {
     "name": "stdout",
     "output_type": "stream",
     "text": [
      "\n",
      "Factors Contributing to Profitability:\n",
      "product_type_hot chocolate             5.106324e+10\n",
      "product_type_biscotti                  4.268748e+10\n",
      "product_type_scone                     4.268748e+10\n",
      "product_category_coffee                4.268748e+10\n",
      "product_type_pastry                    4.268748e+10\n",
      "product_category_branded               3.915559e+10\n",
      "product_category_coffee beans          3.795299e+10\n",
      "product_category_loose tea             3.417958e+10\n",
      "product_type_brewed green tea          3.383708e+10\n",
      "product_type_brewed chai tea           3.383708e+10\n",
      "product_type_brewed herbal tea         3.383708e+10\n",
      "product_type_brewed black tea          3.383708e+10\n",
      "product_type_regular syrup             3.159380e+10\n",
      "product_type_sugar free syrup          3.159380e+10\n",
      "product_category_packaged chocolate    3.045303e+10\n",
      "product_type_organic chocolate         1.223444e+10\n",
      "product_type_drinking chocolate        1.223444e+10\n",
      "product_category_flavours              1.109368e+10\n",
      "product_category_tea                   8.850394e+09\n",
      "product_type_black tea                 8.507898e+09\n",
      "product_type_herbal tea                8.507898e+09\n",
      "product_type_green tea                 8.507898e+09\n",
      "product_type_chai tea                  8.507898e+09\n",
      "product_type_green beans               4.734491e+09\n",
      "product_type_premium beans             4.734491e+09\n",
      "product_type_espresso beans            4.734491e+09\n",
      "product_type_house blend beans         4.734491e+09\n",
      "product_type_gourmet beans             4.734491e+09\n",
      "product_type_organic beans             4.734491e+09\n",
      "product_type_housewares                3.531884e+09\n",
      "product_type_clothing                  3.531884e+09\n",
      "transaction_qty                        1.078727e+00\n",
      "unit_price                             4.611644e-01\n",
      "store_id                               3.512935e-03\n",
      "product_type_organic brewed coffee    -9.052072e-04\n",
      "product_type_drip coffee              -1.817656e-03\n",
      "product_type_gourmet brewed coffee    -2.766202e-03\n",
      "product_type_premium brewed coffee    -3.281529e-03\n",
      "product_category_drinking chocolate   -8.375766e+09\n",
      "dtype: float64\n"
     ]
    }
   ],
   "source": [
    "# Recommendations based on model outcomes\n",
    "important_factors = pd.Series(model.coef_, index=features.columns).sort_values(ascending=False)\n",
    "print(\"\\nFactors Contributing to Profitability:\")\n",
    "print(important_factors)"
   ]
  },
  {
   "cell_type": "code",
   "execution_count": 70,
   "id": "12118f3e",
   "metadata": {},
   "outputs": [
    {
     "name": "stdout",
     "output_type": "stream",
     "text": [
      "\n",
      "Product Type Contributing Most to Profit:\n",
      "product_type\n",
      "premium beans    13.020982\n",
      "Name: profit, dtype: float64\n"
     ]
    }
   ],
   "source": [
    "# Identify products that contribute most to profit increase\n",
    "product_contributions = data.groupby('product_type')['profit'].mean().sort_values(ascending=False).head(1)\n",
    "print(\"\\nProduct Type Contributing Most to Profit:\")\n",
    "print(product_contributions)"
   ]
  },
  {
   "cell_type": "code",
   "execution_count": 72,
   "id": "52c47625",
   "metadata": {},
   "outputs": [
    {
     "name": "stdout",
     "output_type": "stream",
     "text": [
      "\n",
      "Loss-making Products:\n",
      "Empty DataFrame\n",
      "Columns: [product_id, profit, category]\n",
      "Index: []\n"
     ]
    }
   ],
   "source": [
    "# Step 4: Loss Mitigation\n",
    "\n",
    "# Investigate loss-making products\n",
    "loss_products = profit_margins[profit_margins['category'] == 'Loss']\n",
    "print(\"\\nLoss-making Products:\")\n",
    "print(loss_products)"
   ]
  },
  {
   "cell_type": "code",
   "execution_count": 75,
   "id": "dcde935e",
   "metadata": {},
   "outputs": [
    {
     "name": "stdout",
     "output_type": "stream",
     "text": [
      "No loss-making products found.\n",
      "\n",
      "Products Near Breaking Even (Alternative Threshold):\n",
      "Empty DataFrame\n",
      "Columns: [product_id, profit, category]\n",
      "Index: []\n"
     ]
    }
   ],
   "source": [
    "# Check if there are any loss-making products\n",
    "if loss_products.empty:\n",
    "    print(\"No loss-making products found.\")\n",
    "else:\n",
    "    # Analyze factors contributing to losses\n",
    "    loss_analysis = data[data['product_id'].isin(loss_products['product_id'])]\n",
    "    \n",
    "    # Provide actionable steps to minimize losses\n",
    "    # Example: Analyze and print cost reduction suggestions\n",
    "    cost_reduction_suggestions = loss_analysis.groupby('product_id')['cost'].mean().sort_values()\n",
    "    print(\"\\nCost Reduction Suggestions:\")\n",
    "    print(cost_reduction_suggestions)\n",
    "    \n",
    "    # Further recommendations based on the analysis\n",
    "    # Example: List products for potential discontinuation\n",
    "    threshold = -1000  # Define a loss threshold\n",
    "    persistent_loss_products = loss_products[loss_products['profit'] < threshold]\n",
    "    print(\"\\nProducts for Potential Discontinuation:\")\n",
    "    print(persistent_loss_products['product_id'].tolist())\n",
    "    \n",
    "    # Example: Recommend price adjustments to minimize losses\n",
    "    # (Assuming 'unit_price' and 'transaction_qty' columns exist in the dataset)\n",
    "    price_adjustments = loss_analysis.groupby('product_id').apply(lambda x: (x['unit_price'].mean(), x['transaction_qty'].sum()))\n",
    "    print(\"\\nPrice Adjustments Recommendations:\")\n",
    "    print(price_adjustments)\n",
    "\n",
    "# Adjust the threshold to see if there are any products close to breaking even\n",
    "alternative_threshold = 0  # Products with no profit or slight loss\n",
    "near_loss_products = profit_margins[(profit_margins['profit'] <= alternative_threshold) & (profit_margins['profit'] > threshold)]\n",
    "print(\"\\nProducts Near Breaking Even (Alternative Threshold):\")\n",
    "print(near_loss_products)\n",
    "\n",
    "if not near_loss_products.empty:\n",
    "    near_loss_analysis = data[data['product_id'].isin(near_loss_products['product_id'])]\n",
    "    \n",
    "    # Provide cost reduction suggestions for these products\n",
    "    alternative_cost_reduction_suggestions = near_loss_analysis.groupby('product_id')['cost'].mean().sort_values()\n",
    "    print(\"\\nAlternative Cost Reduction Suggestions:\")\n",
    "    print(alternative_cost_reduction_suggestions)\n",
    "    \n",
    "    # List these products for potential cost-saving measures\n",
    "    print(\"\\nProducts for Potential Cost-Saving Measures:\")\n",
    "    print(near_loss_products['product_id'].tolist())"
   ]
  },
  {
   "cell_type": "code",
   "execution_count": null,
   "id": "c8666f2a",
   "metadata": {},
   "outputs": [],
   "source": []
  }
 ],
 "metadata": {
  "kernelspec": {
   "display_name": "Python 3 (ipykernel)",
   "language": "python",
   "name": "python3"
  },
  "language_info": {
   "codemirror_mode": {
    "name": "ipython",
    "version": 3
   },
   "file_extension": ".py",
   "mimetype": "text/x-python",
   "name": "python",
   "nbconvert_exporter": "python",
   "pygments_lexer": "ipython3",
   "version": "3.11.5"
  }
 },
 "nbformat": 4,
 "nbformat_minor": 5
}
